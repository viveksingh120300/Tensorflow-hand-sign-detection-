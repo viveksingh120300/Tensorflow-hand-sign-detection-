{
 "cells": [
  {
   "cell_type": "markdown",
   "metadata": {},
   "source": [
    "# 1. Import Dependencies"
   ]
  },
  {
   "cell_type": "code",
   "execution_count": 1,
   "metadata": {},
   "outputs": [
    {
     "name": "stdout",
     "output_type": "stream",
     "text": [
      "Collecting opencv-python\n",
      "  Downloading opencv_python-4.5.1.48-cp37-cp37m-win_amd64.whl (34.9 MB)\n",
      "Requirement already satisfied: numpy>=1.14.5 in c:\\users\\vivek\\anaconda3\\envs\\newp37\\lib\\site-packages (from opencv-python) (1.20.2)\n",
      "Installing collected packages: opencv-python\n",
      "Successfully installed opencv-python-4.5.1.48\n"
     ]
    }
   ],
   "source": [
    "!pip install opencv-python"
   ]
  },
  {
   "cell_type": "code",
   "execution_count": 1,
   "metadata": {},
   "outputs": [],
   "source": [
    "# Import opencv\n",
    "import cv2 \n",
    "\n",
    "# Import uuid\n",
    "import uuid\n",
    "\n",
    "# Import Operating System\n",
    "import os\n",
    "\n",
    "# Import time\n",
    "import time"
   ]
  },
  {
   "cell_type": "markdown",
   "metadata": {},
   "source": [
    "# 2. Define Images to Collect"
   ]
  },
  {
   "cell_type": "code",
   "execution_count": 6,
   "metadata": {},
   "outputs": [],
   "source": [
    "labels = ['livelong']\n",
    "number_imgs = 5"
   ]
  },
  {
   "cell_type": "markdown",
   "metadata": {},
   "source": [
    "# 3. Setup Folders "
   ]
  },
  {
   "cell_type": "code",
   "execution_count": 7,
   "metadata": {},
   "outputs": [],
   "source": [
    "IMAGES_PATH = os.path.join('Tensorflow', 'workspace', 'images', 'collectedimages')"
   ]
  },
  {
   "cell_type": "code",
   "execution_count": 8,
   "metadata": {},
   "outputs": [],
   "source": [
    "if not os.path.exists(IMAGES_PATH):\n",
    "    if os.name == 'posix':\n",
    "        !mkdir -p {IMAGES_PATH}\n",
    "    if os.name == 'nt':\n",
    "         !mkdir {IMAGES_PATH}\n",
    "for label in labels:\n",
    "    path = os.path.join(IMAGES_PATH, label)\n",
    "    if not os.path.exists(path):\n",
    "        !mkdir {path}"
   ]
  },
  {
   "cell_type": "markdown",
   "metadata": {},
   "source": [
    "# 4. Capture Images"
   ]
  },
  {
   "cell_type": "code",
   "execution_count": 9,
   "metadata": {},
   "outputs": [
    {
     "name": "stdout",
     "output_type": "stream",
     "text": [
      "Collecting images for livelong\n",
      "Collecting image 0\n",
      "Collecting image 1\n",
      "Collecting image 2\n",
      "Collecting image 3\n",
      "Collecting image 4\n"
     ]
    }
   ],
   "source": [
    "for label in labels:\n",
    "    cap = cv2.VideoCapture(0)\n",
    "    print('Collecting images for {}'.format(label))\n",
    "    time.sleep(5)\n",
    "    for imgnum in range(number_imgs):\n",
    "        print('Collecting image {}'.format(imgnum))\n",
    "        ret, frame = cap.read()\n",
    "        imgname = os.path.join(IMAGES_PATH,label,label+'.'+'{}.jpg'.format(str(uuid.uuid1())))\n",
    "        cv2.imwrite(imgname, frame)\n",
    "        cv2.imshow('frame', frame)\n",
    "        time.sleep(2)\n",
    "\n",
    "        if cv2.waitKey(1) & 0xFF == ord('q'):\n",
    "            break\n",
    "cap.release()\n",
    "cv2.destroyAllWindows()"
   ]
  },
  {
   "cell_type": "markdown",
   "metadata": {},
   "source": [
    "# 5. Image Labelling"
   ]
  },
  {
   "cell_type": "code",
   "execution_count": 10,
   "metadata": {},
   "outputs": [
    {
     "name": "stdout",
     "output_type": "stream",
     "text": [
      "Requirement already satisfied: pyqt5 in e:\\tensorflow object detection\\tfodcourse\\third_env\\lib\\site-packages (5.15.4)\n",
      "Requirement already satisfied: lxml in e:\\tensorflow object detection\\tfodcourse\\third_env\\lib\\site-packages (4.6.3)\n",
      "Requirement already satisfied: PyQt5-sip<13,>=12.8 in e:\\tensorflow object detection\\tfodcourse\\third_env\\lib\\site-packages (from pyqt5) (12.8.1)\n",
      "Requirement already satisfied: PyQt5-Qt5>=5.15 in e:\\tensorflow object detection\\tfodcourse\\third_env\\lib\\site-packages (from pyqt5) (5.15.2)\n"
     ]
    }
   ],
   "source": [
    "!pip install --upgrade pyqt5 lxml"
   ]
  },
  {
   "cell_type": "code",
   "execution_count": 11,
   "metadata": {},
   "outputs": [],
   "source": [
    "LABELIMG_PATH = os.path.join('Tensorflow', 'labelimg')"
   ]
  },
  {
   "cell_type": "code",
   "execution_count": 12,
   "metadata": {},
   "outputs": [],
   "source": [
    "if not os.path.exists(LABELIMG_PATH):\n",
    "    !mkdir {LABELIMG_PATH}\n",
    "    !git clone https://github.com/tzutalin/labelImg {LABELIMG_PATH}"
   ]
  },
  {
   "cell_type": "code",
   "execution_count": 13,
   "metadata": {},
   "outputs": [],
   "source": [
    "if os.name == 'posix':\n",
    "    !make qt5py3\n",
    "if os.name =='nt':\n",
    "    !cd {LABELIMG_PATH} && pyrcc5 -o libs/resources.py resources.qrc"
   ]
  },
  {
   "cell_type": "code",
   "execution_count": 14,
   "metadata": {},
   "outputs": [
    {
     "name": "stdout",
     "output_type": "stream",
     "text": [
      "Loading setting failed"
     ]
    },
    {
     "name": "stderr",
     "output_type": "stream",
     "text": [
      "Warning: QT_DEVICE_PIXEL_RATIO is deprecated. Instead use:\n",
      "   QT_AUTO_SCREEN_SCALE_FACTOR to enable platform plugin controlled per-screen factors.\n",
      "   QT_SCREEN_SCALE_FACTORS to set per-screen DPI.\n",
      "   QT_SCALE_FACTOR to set the application global scale factor.\n"
     ]
    },
    {
     "name": "stdout",
     "output_type": "stream",
     "text": [
      "\n",
      "Image:E:\\Tensorflow Object Detection\\TFODCourse\\Tensorflow\\workspace\\images\\collectedimages\\thumbsup\\thumbsup.6d438a2c-a714-11eb-8ed3-d8c49705db0b.jpg -> Annotation:E:/Tensorflow Object Detection/TFODCourse/Tensorflow/workspace/images/collectedimages/thumbsup/thumbsup.6d438a2c-a714-11eb-8ed3-d8c49705db0b.xml\n",
      "Image:E:\\Tensorflow Object Detection\\TFODCourse\\Tensorflow\\workspace\\images\\collectedimages\\thumbsup\\thumbsup.701b1968-a714-11eb-a2fa-d8c49705db0b.jpg -> Annotation:E:/Tensorflow Object Detection/TFODCourse/Tensorflow/workspace/images/collectedimages/thumbsup/thumbsup.701b1968-a714-11eb-a2fa-d8c49705db0b.xml\n",
      "Image:E:\\Tensorflow Object Detection\\TFODCourse\\Tensorflow\\workspace\\images\\collectedimages\\thumbsup\\thumbsup.728c37e8-a714-11eb-ad9c-d8c49705db0b.jpg -> Annotation:E:/Tensorflow Object Detection/TFODCourse/Tensorflow/workspace/images/collectedimages/thumbsup/thumbsup.728c37e8-a714-11eb-ad9c-d8c49705db0b.xml\n",
      "Image:E:\\Tensorflow Object Detection\\TFODCourse\\Tensorflow\\workspace\\images\\collectedimages\\thumbsup\\thumbsup.71544e1e-a714-11eb-8a48-d8c49705db0b.jpg -> Annotation:E:/Tensorflow Object Detection/TFODCourse/Tensorflow/workspace/images/collectedimages/thumbsup/thumbsup.71544e1e-a714-11eb-8a48-d8c49705db0b.xml\n",
      "Image:E:\\Tensorflow Object Detection\\TFODCourse\\Tensorflow\\workspace\\images\\collectedimages\\thumbsdown\\thumbsdown.7afed3d2-a714-11eb-a1c0-d8c49705db0b.jpg -> Annotation:E:/Tensorflow Object Detection/TFODCourse/Tensorflow/workspace/images/collectedimages/thumbsdown/thumbsdown.7afed3d2-a714-11eb-a1c0-d8c49705db0b.xml\n",
      "Image:E:\\Tensorflow Object Detection\\TFODCourse\\Tensorflow\\workspace\\images\\collectedimages\\thumbsdown\\thumbsdown.7c3351d4-a714-11eb-b01c-d8c49705db0b.jpg -> Annotation:E:/Tensorflow Object Detection/TFODCourse/Tensorflow/workspace/images/collectedimages/thumbsdown/thumbsdown.7c3351d4-a714-11eb-b01c-d8c49705db0b.xml\n",
      "Image:E:\\Tensorflow Object Detection\\TFODCourse\\Tensorflow\\workspace\\images\\collectedimages\\thumbsdown\\thumbsdown.79ca4d40-a714-11eb-8c0f-d8c49705db0b.jpg -> Annotation:E:/Tensorflow Object Detection/TFODCourse/Tensorflow/workspace/images/collectedimages/thumbsdown/thumbsdown.79ca4d40-a714-11eb-8c0f-d8c49705db0b.xml\n",
      "Cancel creation.\n",
      "Image:E:\\Tensorflow Object Detection\\TFODCourse\\Tensorflow\\workspace\\images\\collectedimages\\thumbsdown\\thumbsdown.775bc0ca-a714-11eb-aafa-d8c49705db0b.jpg -> Annotation:E:/Tensorflow Object Detection/TFODCourse/Tensorflow/workspace/images/collectedimages/thumbsdown/thumbsdown.775bc0ca-a714-11eb-aafa-d8c49705db0b.xml\n",
      "Image:E:\\Tensorflow Object Detection\\TFODCourse\\Tensorflow\\workspace\\images\\collectedimages\\thumbsdown\\thumbsdown.7892e33a-a714-11eb-8bc9-d8c49705db0b.jpg -> Annotation:E:/Tensorflow Object Detection/TFODCourse/Tensorflow/workspace/images/collectedimages/thumbsdown/thumbsdown.7892e33a-a714-11eb-8bc9-d8c49705db0b.xml\n",
      "Image:E:\\Tensorflow Object Detection\\TFODCourse\\Tensorflow\\workspace\\images\\collectedimages\\livelong\\livelong.85d7bd6e-a714-11eb-95ac-d8c49705db0b.jpg -> Annotation:E:/Tensorflow Object Detection/TFODCourse/Tensorflow/workspace/images/collectedimages/livelong/livelong.85d7bd6e-a714-11eb-95ac-d8c49705db0b.xml\n",
      "Image:E:\\Tensorflow Object Detection\\TFODCourse\\Tensorflow\\workspace\\images\\collectedimages\\livelong\\livelong.d4af8624-a714-11eb-8b42-d8c49705db0b.jpg -> Annotation:E:/Tensorflow Object Detection/TFODCourse/Tensorflow/workspace/images/collectedimages/livelong/livelong.d4af8624-a714-11eb-8b42-d8c49705db0b.xml\n",
      "Image:E:\\Tensorflow Object Detection\\TFODCourse\\Tensorflow\\workspace\\images\\collectedimages\\livelong\\livelong.d5e76524-a714-11eb-92cb-d8c49705db0b.jpg -> Annotation:E:/Tensorflow Object Detection/TFODCourse/Tensorflow/workspace/images/collectedimages/livelong/livelong.d5e76524-a714-11eb-92cb-d8c49705db0b.xml\n",
      "Image:E:\\Tensorflow Object Detection\\TFODCourse\\Tensorflow\\workspace\\images\\collectedimages\\livelong\\livelong.d37abfe8-a714-11eb-8fa8-d8c49705db0b.jpg -> Annotation:E:/Tensorflow Object Detection/TFODCourse/Tensorflow/workspace/images/collectedimages/livelong/livelong.d37abfe8-a714-11eb-8fa8-d8c49705db0b.xml\n",
      "Image:E:\\Tensorflow Object Detection\\TFODCourse\\Tensorflow\\workspace\\images\\collectedimages\\livelong\\livelong.d738d05a-a714-11eb-a77f-d8c49705db0b.jpg -> Annotation:E:/Tensorflow Object Detection/TFODCourse/Tensorflow/workspace/images/collectedimages/livelong/livelong.d738d05a-a714-11eb-a77f-d8c49705db0b.xml\n"
     ]
    }
   ],
   "source": [
    "!cd {LABELIMG_PATH} && python labelImg.py"
   ]
  },
  {
   "cell_type": "markdown",
   "metadata": {},
   "source": [
    "# 6. Move them into a Training and Testing Partition"
   ]
  },
  {
   "cell_type": "markdown",
   "metadata": {},
   "source": [
    "# OPTIONAL - 7. Compress them for Colab Training"
   ]
  },
  {
   "cell_type": "code",
   "execution_count": 20,
   "metadata": {},
   "outputs": [],
   "source": [
    "TRAIN_PATH = os.path.join('Tensorflow', 'workspace', 'images', 'train')\n",
    "TEST_PATH = os.path.join('Tensorflow', 'workspace', 'images', 'test')\n",
    "ARCHIVE_PATH = os.path.join('Tensorflow', 'workspace', 'images', 'archive.tar.gz')"
   ]
  },
  {
   "cell_type": "code",
   "execution_count": 21,
   "metadata": {},
   "outputs": [],
   "source": [
    "!tar -czf {ARCHIVE_PATH} {TRAIN_PATH} {TEST_PATH}"
   ]
  },
  {
   "cell_type": "code",
   "execution_count": null,
   "metadata": {},
   "outputs": [],
   "source": []
  }
 ],
 "metadata": {
  "kernelspec": {
   "display_name": "newp37",
   "language": "python",
   "name": "newp37"
  },
  "language_info": {
   "codemirror_mode": {
    "name": "ipython",
    "version": 3
   },
   "file_extension": ".py",
   "mimetype": "text/x-python",
   "name": "python",
   "nbconvert_exporter": "python",
   "pygments_lexer": "ipython3",
   "version": "3.7.10"
  }
 },
 "nbformat": 4,
 "nbformat_minor": 2
}
